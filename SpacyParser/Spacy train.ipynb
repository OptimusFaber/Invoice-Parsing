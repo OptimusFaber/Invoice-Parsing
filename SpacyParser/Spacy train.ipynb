{
  "cells": [
    {
      "cell_type": "code",
      "execution_count": null,
      "metadata": {},
      "outputs": [],
      "source": [
        "# !pip install pdfplumber\n",
        "# !pip install spacy"
      ]
    },
    {
      "cell_type": "code",
      "execution_count": 1,
      "metadata": {
        "id": "0PCNe8NRz8ON"
      },
      "outputs": [],
      "source": [
        "import spacy"
      ]
    },
    {
      "cell_type": "code",
      "execution_count": 2,
      "metadata": {
        "colab": {
          "base_uri": "https://localhost:8080/"
        },
        "id": "f4qfawb80LDr",
        "outputId": "e315927a-cbfa-47f1-900c-d4bc0fc08628"
      },
      "outputs": [
        {
          "name": "stdout",
          "output_type": "stream",
          "text": [
            "\u001b[38;5;4mℹ Saving to output directory: output\u001b[0m\n",
            "\u001b[38;5;4mℹ Using GPU: 0\u001b[0m\n",
            "\u001b[1m\n",
            "=========================== Initializing pipeline ===========================\u001b[0m\n",
            "\u001b[38;5;2m✔ Initialized pipeline\u001b[0m\n",
            "\u001b[1m\n",
            "============================= Training pipeline =============================\u001b[0m\n",
            "\u001b[38;5;4mℹ Pipeline: ['tok2vec', 'ner']\u001b[0m\n",
            "\u001b[38;5;4mℹ Initial learn rate: 0.001\u001b[0m\n",
            "E    #       LOSS TOK2VEC  LOSS NER  ENTS_F  ENTS_P  ENTS_R  SCORE \n",
            "---  ------  ------------  --------  ------  ------  ------  ------\n",
            "  0       0          0.00     53.78    0.00    0.00    0.00    0.00\n",
            "  4     100        155.74   3472.50   66.67   73.81   60.78    0.67             \n",
            "  8     200        101.21    562.77   74.11   76.84   71.57    0.74             \n",
            " 13     300        141.51    199.28   75.36   74.29   76.47    0.75             \n",
            " 19     400         63.74     82.51   77.83   78.22   77.45    0.78             \n",
            "Epoch 20:   3%|▉                                | 3/100 [00:00<00:04, 23.96it/s]\u001b[38;5;2m✔ Saved pipeline to output directory\u001b[0m\n",
            "output/model-last\n",
            "                                                                                \r"
          ]
        }
      ],
      "source": [
        "!python -m spacy train config.cfg --output ./output --paths.train ./train_data.spacy --paths.dev ./dev_data.spacy --gpu-id 0"
      ]
    },
    {
      "cell_type": "code",
      "execution_count": 3,
      "metadata": {
        "id": "f7_uiBSJ0NJ-"
      },
      "outputs": [],
      "source": [
        "import spacy\n",
        "\n",
        "# Загружаем обученную модель\n",
        "nlp = spacy.load(\"output/model-best\")"
      ]
    },
    {
      "cell_type": "code",
      "execution_count": 6,
      "metadata": {
        "id": "8JlohRj81HzX"
      },
      "outputs": [],
      "source": [
        "text = \"Ons GLN nr. 8712423019324 Factuurnummer VCG140001932 Factuurdatum 26-02-14 Uw debiteurnummer K0000203 Uw BTW nr NL804078440B01\""
      ]
    },
    {
      "cell_type": "code",
      "execution_count": 7,
      "metadata": {
        "colab": {
          "base_uri": "https://localhost:8080/"
        },
        "id": "YAxn_con1LeD",
        "outputId": "7ddd3638-5ca3-48c5-f7da-4368bbacff76"
      },
      "outputs": [
        {
          "name": "stdout",
          "output_type": "stream",
          "text": [
            "InvoiceNumber: Factuurnummer VCG140001932\n",
            "InvoiceDate: Factuurdatum 26-02-14\n",
            "ClientVAT: Uw BTW nr NL804078440B01\n"
          ]
        }
      ],
      "source": [
        "doc = nlp(text)\n",
        "\n",
        "# Выведем извлеченные сущности\n",
        "for ent in doc.ents:\n",
        "    print(f\"{ent.label_}: {ent.text}\")"
      ]
    },
    {
      "cell_type": "code",
      "execution_count": null,
      "metadata": {
        "colab": {
          "base_uri": "https://localhost:8080/",
          "height": 192
        },
        "id": "H_ITk7CwLZeO",
        "outputId": "0eed549f-43c0-4c71-d004-fe64786c178d"
      },
      "outputs": [
        {
          "data": {
            "application/vnd.google.colaboratory.intrinsic+json": {
              "type": "string"
            },
            "text/plain": [
              "'СЧЁТ № 70000867380/200 от 31.10.2021\\nДоговор № 100015068 от 11.04.2018\\nПродавец ПАО «МегаФон» Покупатель ООО \"ДЕЛИВЕРИ КЛАБ\", л/счет 735047070\\nИНН/КПП 7812014560/997750001 ИНН/КПП покупателя 7705891253/771401001\\nАдрес 127006, Российская Федерация, г. Москва, Адрес 125167, Россия, Москва г., пр-кт Ленинградский, 39,\\nОружейный переулок, д. 41 79\\nПолучатель\\nИНН/КПП 7812014560/997750001\\nБанк ПАО Сбербанк\\nБИК 044525225\\nМестонахождение банка Москва г.\\nРасчетный счет 40702810538050107202\\nКорр. счёт 30101810400000000225\\nСтоимость\\nСтоимость товаров товаров (работ,\\nНалоговая Сумма налога,\\nНаименование товара (описание выполненных работ, оказанных услуг) (работ, услуг), всего услуг), всего с\\nставка, % руб.\\nбез налога, руб. учётом налога,\\nруб.\\n1 2 3 4 5\\nГарантированный платеж на один Интеллектуальный номер в счет оплаты трафика\\n6866,19 20 1373,24 8239,43\\nза ОКТЯБРЬ 2021\\nПредоставление переадресации вызовов на Интеллектуальном номере за\\n1133,81 20 226,76 1360,57\\nОКТЯБРЬ 2021\\nВсего к оплате: Девять тысяч шестьсот рублей 1600,00 9600,00\\nДля корректного и своевременного зачисления платежа в назначении платежного документа необходимо указывать: Оплата за услуги\\nфиксированной связи по лицевому счету №735047070\\nРуководитель Н.В. Талдыкина\\nна основании доверенности\\n№ № 5-87/19 от 28.02.2019\\n2 из 3'"
            ]
          },
          "execution_count": 4,
          "metadata": {},
          "output_type": "execute_result"
        }
      ],
      "source": [
        "import pdfplumber\n",
        "\n",
        "def extract_text_from_pdf(pdf_path):\n",
        "    \"\"\"Извлекает текст из PDF\"\"\"\n",
        "    with pdfplumber.open(pdf_path) as pdf:\n",
        "        text = \"\\n\".join([page.extract_text() for page in pdf.pages if page.extract_text()])\n",
        "    return text\n",
        "\n",
        "text = extract_text_from_pdf(\"example.pdf\")\n",
        "text"
      ]
    },
    {
      "cell_type": "code",
      "execution_count": null,
      "metadata": {
        "colab": {
          "base_uri": "https://localhost:8080/"
        },
        "id": "bxd6ckot1YXy",
        "outputId": "78910ef3-a7b0-4776-8cb0-6328aba42532"
      },
      "outputs": [
        {
          "name": "stdout",
          "output_type": "stream",
          "text": [
            "📄 Извлеченные данные из счета:\n",
            "buyer_inn: 7705891253\n",
            "seller_kpp: 771401001\n",
            "invoice_number: 19932052386\n",
            "invoice_date: 28.10.2019\n",
            "invoice_number: Наименование\n",
            "provider_inn: ВНИМАНИЕ\n"
          ]
        }
      ],
      "source": [
        "import spacy\n",
        "\n",
        "# Загружаем обученную модель\n",
        "nlp = spacy.load(\"output/model-best\")\n",
        "\n",
        "def predict_invoice_data(pdf_path):\n",
        "    \"\"\"Обрабатывает PDF и предсказывает сущности\"\"\"\n",
        "    text = extract_text_from_pdf(pdf_path)\n",
        "    # print(text)\n",
        "    doc = nlp(text)\n",
        "\n",
        "    print(\"📄 Извлеченные данные из счета:\")\n",
        "    for ent in doc.ents:\n",
        "        print(f\"{ent.label_}: {ent.text}\")\n",
        "    return text\n",
        "\n",
        "# Укажи путь к своему PDF-файлу\n",
        "pdf_file = \"/content/example.pdf\"  # Замени на нужный файл\n",
        "text = predict_invoice_data(pdf_file)\n"
      ]
    },
    {
      "cell_type": "code",
      "execution_count": null,
      "metadata": {
        "colab": {
          "base_uri": "https://localhost:8080/"
        },
        "id": "pfUVoAqqFRzl",
        "outputId": "9a9d0aa6-8f1b-4190-ad17-f6b268e32ec6"
      },
      "outputs": [
        {
          "name": "stdout",
          "output_type": "stream",
          "text": [
            "📄 Извлеченные данные из счета:\n",
            "invoice_number: 70000867380/200\n",
            "invoice_date: 31.10.2021\n",
            "invoice_number: 100015068\n",
            "invoice_date: 11.04.2018\n",
            "provider_kpp: 7812014560/997750001\n",
            "provider_kpp: 7705891253/771401001\n",
            "provider_kpp: 7812014560/997750001\n",
            "provider_kpp: 8239,43\n",
            "invoice_number: 735047070\n",
            "invoice_date: 28.02.2019\n"
          ]
        }
      ],
      "source": [
        "# Укажи путь к своему PDF-файлу\n",
        "pdf_file = \"/content/New-1.pdf\"  # Замени на нужный файл\n",
        "text = predict_invoice_data(pdf_file)"
      ]
    },
    {
      "cell_type": "code",
      "execution_count": null,
      "metadata": {
        "colab": {
          "base_uri": "https://localhost:8080/",
          "height": 140
        },
        "id": "-dsyXUz-NKO8",
        "outputId": "65365552-5519-4831-b4e6-2dfc6468f721"
      },
      "outputs": [
        {
          "data": {
            "application/vnd.google.colaboratory.intrinsic+json": {
              "type": "string"
            },
            "text/plain": [
              "'СЧЁТ № 70000867380/200 от 31.10.2021\\nДоговор № 100015068 от 11.04.2018\\nПродавец ПАО «МегаФон» Покупатель ООО \"ДЕЛИВЕРИ КЛАБ\", л/счет 735047070\\nИНН/КПП 7812014560/997750001 ИНН/КПП покупателя 7705891253/771401001\\nАдрес 127006, Российская Федерация, г. Москва, Адрес 125167, Россия, Москва г., пр-кт Ленинградский, 39,\\nОружейный переулок, д. 41 79\\nПолучатель\\nИНН/КПП 7812014560/997750001\\nБанк ПАО Сбербанк\\nБИК 044525225\\nМестонахождение банка Москва г.\\nРасчетный счет 40702810538050107202\\nКорр. счёт 30101810400000000225\\nСтоимость\\nСтоимость товаров товаров (работ,\\nНалоговая Сумма налога,\\nНаименование товара (описание выполненных работ, оказанных услуг) (работ, услуг), всего услуг), всего с\\nставка, % руб.\\nбез налога, руб. учётом налога,\\nруб.\\n1 2 3 4 5\\nГарантированный платеж на один Интеллектуальный номер в счет оплаты трафика\\n6866,19 20 1373,24 8239,43\\nза ОКТЯБРЬ 2021\\nПредоставление переадресации вызовов на Интеллектуальном номере за\\n1133,81 20 226,76 1360,57\\nОКТЯБРЬ 2021\\nВсего к оплате: Девять тысяч шестьсот рублей 1600,00 9600,00\\nДля корректного и своевременного зачисления платежа в назначении платежного документа необходимо указывать: Оплата за услуги\\nфиксированной связи по лицевому счету №735047070\\nРуководитель Н.В. Талдыкина\\nна основании доверенности\\n№ № 5-87/19 от 28.02.2019\\n2 из 3'"
            ]
          },
          "execution_count": 12,
          "metadata": {},
          "output_type": "execute_result"
        }
      ],
      "source": [
        "text"
      ]
    },
    {
      "cell_type": "code",
      "execution_count": null,
      "metadata": {
        "id": "CJxNMYdNPtha"
      },
      "outputs": [],
      "source": []
    }
  ],
  "metadata": {
    "accelerator": "GPU",
    "colab": {
      "gpuType": "T4",
      "provenance": []
    },
    "kernelspec": {
      "display_name": "inv-parser-env",
      "language": "python",
      "name": "python3"
    },
    "language_info": {
      "codemirror_mode": {
        "name": "ipython",
        "version": 3
      },
      "file_extension": ".py",
      "mimetype": "text/x-python",
      "name": "python",
      "nbconvert_exporter": "python",
      "pygments_lexer": "ipython3",
      "version": "3.10.18"
    }
  },
  "nbformat": 4,
  "nbformat_minor": 0
}
